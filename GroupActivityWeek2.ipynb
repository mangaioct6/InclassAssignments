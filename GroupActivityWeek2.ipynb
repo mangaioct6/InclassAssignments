{
 "cells": [
  {
   "cell_type": "code",
   "execution_count": 4,
   "id": "9fe79b3c",
   "metadata": {},
   "outputs": [
    {
     "name": "stdout",
     "output_type": "stream",
     "text": [
      "Enter a number :5\n",
      "weird\n"
     ]
    }
   ],
   "source": [
    "n=int(input(\"Enter a number :\"))  #getting input to run the code\n",
    "if n%2==0 and n in range (2,5):   #checking condition if n is even and within range of (2,5)\n",
    "    print(\"not weird\")\n",
    "elif n%2==0 and n in range (6,20):#checking condition if n is even and within range of (6,20)\n",
    "    print(\"weird\")\n",
    "elif n%2==0 and n>20:               #checking condition if n is even and greater than 20\n",
    "    print(\"not weird\")\n",
    "else:                             #checking condition if n is odd\n",
    "    print(\"weird\")"
   ]
  },
  {
   "cell_type": "code",
   "execution_count": null,
   "id": "e263b866",
   "metadata": {},
   "outputs": [],
   "source": []
  }
 ],
 "metadata": {
  "celltoolbar": "Edit Metadata",
  "kernelspec": {
   "display_name": "Python 3 (ipykernel)",
   "language": "python",
   "name": "python3"
  },
  "language_info": {
   "codemirror_mode": {
    "name": "ipython",
    "version": 3
   },
   "file_extension": ".py",
   "mimetype": "text/x-python",
   "name": "python",
   "nbconvert_exporter": "python",
   "pygments_lexer": "ipython3",
   "version": "3.7.4"
  }
 },
 "nbformat": 4,
 "nbformat_minor": 5
}
