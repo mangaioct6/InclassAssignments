{
 "cells": [
  {
   "cell_type": "code",
   "execution_count": 9,
   "id": "198bd1ce",
   "metadata": {},
   "outputs": [
    {
     "name": "stdout",
     "output_type": "stream",
     "text": [
      "Enter a: 3\n",
      "Enter b: 3\n",
      "Addition of a and b:  6\n",
      "Subtraction of a and b: zero\n",
      "Product of a and b:  9\n"
     ]
    }
   ],
   "source": [
    "#GroupActivityWeek3\n",
    "\n",
    "def arithmetic(a,b): # creating a function which performs some arithmetic operations \n",
    "    if a+b==0: \n",
    "        print(\"Addition of a and b: zero\")\n",
    "    else:\n",
    "        print(\"Addition of a and b: \",a+b)\n",
    "    if a-b==0: \n",
    "        print(\"Subtraction of a and b: zero\")\n",
    "    else:\n",
    "        print(\"Subtraction of a and b: \",a-b)\n",
    "    if a*b==0: \n",
    "        print(\"Product of a and b: zero\")\n",
    "    else:\n",
    "        print(\"Product of a and b: \",a*b)\n",
    "a=int(input(\"Enter a: \")) #getting input 1\n",
    "b=int(input(\"Enter b: \")) #getting input 2\n",
    "arithmetic(a,b) #calling arithmetic function"
   ]
  },
  {
   "cell_type": "code",
   "execution_count": null,
   "id": "0f194013",
   "metadata": {},
   "outputs": [],
   "source": []
  }
 ],
 "metadata": {
  "kernelspec": {
   "display_name": "Python 3 (ipykernel)",
   "language": "python",
   "name": "python3"
  },
  "language_info": {
   "codemirror_mode": {
    "name": "ipython",
    "version": 3
   },
   "file_extension": ".py",
   "mimetype": "text/x-python",
   "name": "python",
   "nbconvert_exporter": "python",
   "pygments_lexer": "ipython3",
   "version": "3.7.4"
  }
 },
 "nbformat": 4,
 "nbformat_minor": 5
}
